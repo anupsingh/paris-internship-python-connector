{
 "cells": [
  {
   "cell_type": "code",
   "execution_count": 2,
   "metadata": {},
   "outputs": [],
   "source": [
    "import os\n",
    "import sys\n",
    "root_dir = os.path.split(os.getcwd())[0]\n",
    "project_dir = os.path.join(root_dir, 'python')\n",
    "if project_dir not in sys.path:\n",
    "    sys.path.append(project_dir)"
   ]
  },
  {
   "cell_type": "code",
   "execution_count": 3,
   "metadata": {},
   "outputs": [],
   "source": [
    "import subprocess\n",
    "output = subprocess.Popen(f\"cd {project_dir} && pipenv --venv\", shell=True, stdout=subprocess.PIPE).stdout.read().decode('utf-8')\n",
    "if len(output) > 0:\n",
    "    # Include the pipenv in this notebook\n",
    "    pipenv_path = os.path.join(output[:-1], 'lib', 'python3.6', 'site-packages')\n",
    "    if pipenv_path not in sys.path:\n",
    "        sys.path.append(pipenv_path)"
   ]
  },
  {
   "cell_type": "code",
   "execution_count": 4,
   "metadata": {},
   "outputs": [],
   "source": [
    "url = \"https://activepivot-ranch.activeviam.com:5700\"\n",
    "user = \"admin\"\n",
    "password = \"admin\""
   ]
  },
  {
   "cell_type": "code",
   "execution_count": 5,
   "metadata": {},
   "outputs": [],
   "source": [
    "from pivot import Connector\n",
    "from datetime import datetime\n",
    "\n",
    "connector = Connector(url, user, password)"
   ]
  },
  {
   "cell_type": "code",
   "execution_count": 22,
   "metadata": {},
   "outputs": [
    {
     "name": "stdout",
     "output_type": "stream",
     "text": [
      "stores: ['City', 'CounterParty', 'Forex', 'Parameters', 'Product', 'Risk', 'Trade']\n",
      "forex: {'Currency': <class 'str'>, 'TargetCurrency': <class 'str'>, 'Rate': None})\n"
     ]
    }
   ],
   "source": [
    "stores = connector.stores()\n",
    "print(f\"stores: {stores}\")\n",
    "print(f\"forex: {connector.store_fields('Forex')})\")"
   ]
  },
  {
   "cell_type": "code",
   "execution_count": 33,
   "metadata": {},
   "outputs": [
    {
     "data": {
      "text/html": [
       "<div>\n",
       "<style scoped>\n",
       "    .dataframe tbody tr th:only-of-type {\n",
       "        vertical-align: middle;\n",
       "    }\n",
       "\n",
       "    .dataframe tbody tr th {\n",
       "        vertical-align: top;\n",
       "    }\n",
       "\n",
       "    .dataframe thead th {\n",
       "        text-align: right;\n",
       "    }\n",
       "</style>\n",
       "<table border=\"1\" class=\"dataframe\">\n",
       "  <thead>\n",
       "    <tr style=\"text-align: right;\">\n",
       "      <th></th>\n",
       "      <th>Currency</th>\n",
       "      <th>Rate</th>\n",
       "      <th>TargetCurrency</th>\n",
       "    </tr>\n",
       "  </thead>\n",
       "  <tbody>\n",
       "    <tr>\n",
       "      <th>0</th>\n",
       "      <td>USD</td>\n",
       "      <td>1.000000</td>\n",
       "      <td>USD</td>\n",
       "    </tr>\n",
       "    <tr>\n",
       "      <th>1</th>\n",
       "      <td>EUR</td>\n",
       "      <td>1.000000</td>\n",
       "      <td>EUR</td>\n",
       "    </tr>\n",
       "    <tr>\n",
       "      <th>2</th>\n",
       "      <td>EUR</td>\n",
       "      <td>1.467963</td>\n",
       "      <td>USD</td>\n",
       "    </tr>\n",
       "    <tr>\n",
       "      <th>3</th>\n",
       "      <td>USD</td>\n",
       "      <td>0.681216</td>\n",
       "      <td>EUR</td>\n",
       "    </tr>\n",
       "    <tr>\n",
       "      <th>4</th>\n",
       "      <td>CHF</td>\n",
       "      <td>1.000000</td>\n",
       "      <td>CHF</td>\n",
       "    </tr>\n",
       "  </tbody>\n",
       "</table>\n",
       "</div>"
      ],
      "text/plain": [
       "  Currency      Rate TargetCurrency\n",
       "0      USD  1.000000            USD\n",
       "1      EUR  1.000000            EUR\n",
       "2      EUR  1.467963            USD\n",
       "3      USD  0.681216            EUR\n",
       "4      CHF  1.000000            CHF"
      ]
     },
     "execution_count": 33,
     "metadata": {},
     "output_type": "execute_result"
    }
   ],
   "source": [
    "forex_ds = connector.store_query('Forex', fields = ['Currency', 'TargetCurrency', 'Rate'])\n",
    "forex_ds.dataframe.head()"
   ]
  },
  {
   "cell_type": "code",
   "execution_count": 32,
   "metadata": {},
   "outputs": [
    {
     "name": "stdout",
     "output_type": "stream",
     "text": [
      "mdx query :   Currency       pnl.SUM\n",
      "0      EUR -4.014688e+07\n",
      "1      GBP -3.073374e+06\n",
      "2      USD -6.202210e+07\n",
      "3      JPY -3.340923e+06\n",
      "4      CHF -2.383163e+07\n",
      "5      ZAR  4.064255e+07\n"
     ]
    }
   ],
   "source": [
    "mdx_query = connector.mdx_query(\"\"\"\n",
    "SELECT \n",
    "NON EMPTY {[Measures].[pnl.SUM]} ON COLUMNS, \n",
    "NON EMPTY [Currency].[Currency].[Currency].Members ON ROWS \n",
    "FROM [EquityDerivativesCube]\n",
    "\"\"\")\n",
    "print(f'mdx query : {mdx_query.dataframe}')"
   ]
  },
  {
   "cell_type": "code",
   "execution_count": 49,
   "metadata": {},
   "outputs": [
    {
     "data": {
      "text/html": [
       "<div>\n",
       "<style scoped>\n",
       "    .dataframe tbody tr th:only-of-type {\n",
       "        vertical-align: middle;\n",
       "    }\n",
       "\n",
       "    .dataframe tbody tr th {\n",
       "        vertical-align: top;\n",
       "    }\n",
       "\n",
       "    .dataframe thead th {\n",
       "        text-align: right;\n",
       "    }\n",
       "</style>\n",
       "<table border=\"1\" class=\"dataframe\">\n",
       "  <thead>\n",
       "    <tr style=\"text-align: right;\">\n",
       "      <th></th>\n",
       "      <th>pnl.SUM</th>\n",
       "      <th>Rate</th>\n",
       "      <th>TargetCurrency</th>\n",
       "    </tr>\n",
       "    <tr>\n",
       "      <th>Currency</th>\n",
       "      <th></th>\n",
       "      <th></th>\n",
       "      <th></th>\n",
       "    </tr>\n",
       "  </thead>\n",
       "  <tbody>\n",
       "    <tr>\n",
       "      <th>CHF</th>\n",
       "      <td>-2.383163e+07</td>\n",
       "      <td>1.000000</td>\n",
       "      <td>CHF</td>\n",
       "    </tr>\n",
       "    <tr>\n",
       "      <th>CHF</th>\n",
       "      <td>-2.383163e+07</td>\n",
       "      <td>0.576840</td>\n",
       "      <td>EUR</td>\n",
       "    </tr>\n",
       "    <tr>\n",
       "      <th>CHF</th>\n",
       "      <td>-2.383163e+07</td>\n",
       "      <td>0.846780</td>\n",
       "      <td>USD</td>\n",
       "    </tr>\n",
       "    <tr>\n",
       "      <th>CHF</th>\n",
       "      <td>-2.383163e+07</td>\n",
       "      <td>5.719819</td>\n",
       "      <td>ZAR</td>\n",
       "    </tr>\n",
       "    <tr>\n",
       "      <th>CHF</th>\n",
       "      <td>-2.383163e+07</td>\n",
       "      <td>0.294429</td>\n",
       "      <td>GBP</td>\n",
       "    </tr>\n",
       "  </tbody>\n",
       "</table>\n",
       "</div>"
      ],
      "text/plain": [
       "               pnl.SUM      Rate TargetCurrency\n",
       "Currency                                       \n",
       "CHF      -2.383163e+07  1.000000            CHF\n",
       "CHF      -2.383163e+07  0.576840            EUR\n",
       "CHF      -2.383163e+07  0.846780            USD\n",
       "CHF      -2.383163e+07  5.719819            ZAR\n",
       "CHF      -2.383163e+07  0.294429            GBP"
      ]
     },
     "execution_count": 49,
     "metadata": {},
     "output_type": "execute_result"
    }
   ],
   "source": [
    "real_pnl = mdx_query.dataframe.set_index('Currency').join(forex_ds.dataframe.set_index('Currency'))\n",
    "real_pnl.head()"
   ]
  },
  {
   "cell_type": "code",
   "execution_count": 50,
   "metadata": {},
   "outputs": [
    {
     "data": {
      "text/html": [
       "<div>\n",
       "<style scoped>\n",
       "    .dataframe tbody tr th:only-of-type {\n",
       "        vertical-align: middle;\n",
       "    }\n",
       "\n",
       "    .dataframe tbody tr th {\n",
       "        vertical-align: top;\n",
       "    }\n",
       "\n",
       "    .dataframe thead th {\n",
       "        text-align: right;\n",
       "    }\n",
       "</style>\n",
       "<table border=\"1\" class=\"dataframe\">\n",
       "  <thead>\n",
       "    <tr style=\"text-align: right;\">\n",
       "      <th></th>\n",
       "      <th>pnl.SUM</th>\n",
       "      <th>Rate</th>\n",
       "      <th>TargetCurrency</th>\n",
       "      <th>pnl.forex</th>\n",
       "    </tr>\n",
       "    <tr>\n",
       "      <th>Currency</th>\n",
       "      <th></th>\n",
       "      <th></th>\n",
       "      <th></th>\n",
       "      <th></th>\n",
       "    </tr>\n",
       "  </thead>\n",
       "  <tbody>\n",
       "    <tr>\n",
       "      <th>CHF</th>\n",
       "      <td>-2.383163e+07</td>\n",
       "      <td>1.000000</td>\n",
       "      <td>CHF</td>\n",
       "      <td>-2.383163e+07</td>\n",
       "    </tr>\n",
       "    <tr>\n",
       "      <th>CHF</th>\n",
       "      <td>-2.383163e+07</td>\n",
       "      <td>0.576840</td>\n",
       "      <td>EUR</td>\n",
       "      <td>-1.374704e+07</td>\n",
       "    </tr>\n",
       "    <tr>\n",
       "      <th>CHF</th>\n",
       "      <td>-2.383163e+07</td>\n",
       "      <td>0.846780</td>\n",
       "      <td>USD</td>\n",
       "      <td>-2.018014e+07</td>\n",
       "    </tr>\n",
       "    <tr>\n",
       "      <th>CHF</th>\n",
       "      <td>-2.383163e+07</td>\n",
       "      <td>5.719819</td>\n",
       "      <td>ZAR</td>\n",
       "      <td>-1.363126e+08</td>\n",
       "    </tr>\n",
       "    <tr>\n",
       "      <th>CHF</th>\n",
       "      <td>-2.383163e+07</td>\n",
       "      <td>0.294429</td>\n",
       "      <td>GBP</td>\n",
       "      <td>-7.016714e+06</td>\n",
       "    </tr>\n",
       "  </tbody>\n",
       "</table>\n",
       "</div>"
      ],
      "text/plain": [
       "               pnl.SUM      Rate TargetCurrency     pnl.forex\n",
       "Currency                                                     \n",
       "CHF      -2.383163e+07  1.000000            CHF -2.383163e+07\n",
       "CHF      -2.383163e+07  0.576840            EUR -1.374704e+07\n",
       "CHF      -2.383163e+07  0.846780            USD -2.018014e+07\n",
       "CHF      -2.383163e+07  5.719819            ZAR -1.363126e+08\n",
       "CHF      -2.383163e+07  0.294429            GBP -7.016714e+06"
      ]
     },
     "execution_count": 50,
     "metadata": {},
     "output_type": "execute_result"
    }
   ],
   "source": [
    "real_pnl['pnl.forex'] = real_pnl['pnl.SUM'] * real_pnl['Rate']\n",
    "real_pnl.head()"
   ]
  },
  {
   "cell_type": "code",
   "execution_count": 43,
   "metadata": {},
   "outputs": [],
   "source": [
    "only_usd = real_pnl['Currency'] == 'USD'\n",
    "real_pnl[only_usd][:5]"
   ]
  },
  {
   "cell_type": "code",
   "execution_count": 54,
   "metadata": {},
   "outputs": [
    {
     "data": {
      "text/html": [
       "<div>\n",
       "<style scoped>\n",
       "    .dataframe tbody tr th:only-of-type {\n",
       "        vertical-align: middle;\n",
       "    }\n",
       "\n",
       "    .dataframe tbody tr th {\n",
       "        vertical-align: top;\n",
       "    }\n",
       "\n",
       "    .dataframe thead th {\n",
       "        text-align: right;\n",
       "    }\n",
       "</style>\n",
       "<table border=\"1\" class=\"dataframe\">\n",
       "  <thead>\n",
       "    <tr style=\"text-align: right;\">\n",
       "      <th></th>\n",
       "      <th>pnl.SUM</th>\n",
       "      <th>Rate</th>\n",
       "      <th>TargetCurrency</th>\n",
       "      <th>pnl.forex</th>\n",
       "    </tr>\n",
       "    <tr>\n",
       "      <th>Currency</th>\n",
       "      <th></th>\n",
       "      <th></th>\n",
       "      <th></th>\n",
       "      <th></th>\n",
       "    </tr>\n",
       "  </thead>\n",
       "  <tbody>\n",
       "    <tr>\n",
       "      <th>USD</th>\n",
       "      <td>-6.202210e+07</td>\n",
       "      <td>1.000000</td>\n",
       "      <td>USD</td>\n",
       "      <td>-6.202210e+07</td>\n",
       "    </tr>\n",
       "    <tr>\n",
       "      <th>USD</th>\n",
       "      <td>-6.202210e+07</td>\n",
       "      <td>0.681216</td>\n",
       "      <td>EUR</td>\n",
       "      <td>-4.225046e+07</td>\n",
       "    </tr>\n",
       "    <tr>\n",
       "      <th>USD</th>\n",
       "      <td>-6.202210e+07</td>\n",
       "      <td>1.180945</td>\n",
       "      <td>CHF</td>\n",
       "      <td>-7.324466e+07</td>\n",
       "    </tr>\n",
       "    <tr>\n",
       "      <th>USD</th>\n",
       "      <td>-6.202210e+07</td>\n",
       "      <td>6.754790</td>\n",
       "      <td>ZAR</td>\n",
       "      <td>-4.189462e+08</td>\n",
       "    </tr>\n",
       "    <tr>\n",
       "      <th>USD</th>\n",
       "      <td>-6.202210e+07</td>\n",
       "      <td>76.522389</td>\n",
       "      <td>JPY</td>\n",
       "      <td>-4.746079e+09</td>\n",
       "    </tr>\n",
       "    <tr>\n",
       "      <th>USD</th>\n",
       "      <td>-6.202210e+07</td>\n",
       "      <td>0.347704</td>\n",
       "      <td>GBP</td>\n",
       "      <td>-2.156533e+07</td>\n",
       "    </tr>\n",
       "  </tbody>\n",
       "</table>\n",
       "</div>"
      ],
      "text/plain": [
       "               pnl.SUM       Rate TargetCurrency     pnl.forex\n",
       "Currency                                                      \n",
       "USD      -6.202210e+07   1.000000            USD -6.202210e+07\n",
       "USD      -6.202210e+07   0.681216            EUR -4.225046e+07\n",
       "USD      -6.202210e+07   1.180945            CHF -7.324466e+07\n",
       "USD      -6.202210e+07   6.754790            ZAR -4.189462e+08\n",
       "USD      -6.202210e+07  76.522389            JPY -4.746079e+09\n",
       "USD      -6.202210e+07   0.347704            GBP -2.156533e+07"
      ]
     },
     "execution_count": 54,
     "metadata": {},
     "output_type": "execute_result"
    }
   ],
   "source": [
    "real_pnl.loc[['USD']]"
   ]
  }
 ],
 "metadata": {
  "kernelspec": {
   "display_name": "Python 3",
   "language": "python",
   "name": "python3"
  },
  "language_info": {
   "codemirror_mode": {
    "name": "ipython",
    "version": 3
   },
   "file_extension": ".py",
   "mimetype": "text/x-python",
   "name": "python",
   "nbconvert_exporter": "python",
   "pygments_lexer": "ipython3",
   "version": "3.6.6"
  }
 },
 "nbformat": 4,
 "nbformat_minor": 2
}
